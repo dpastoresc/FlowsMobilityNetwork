{
 "cells": [
  {
   "cell_type": "code",
   "execution_count": 1,
   "metadata": {},
   "outputs": [],
   "source": [
    "# DELIVERABLE FOR THE PROJECT:\n",
    "# \"KINEMATICS OF MOBILITY\"\n",
    "# David Pastor-Escuredo (LifeD Lab)\n",
    "# Licencia MIT"
   ]
  },
  {
   "cell_type": "code",
   "execution_count": 2,
   "metadata": {},
   "outputs": [],
   "source": [
    "#Copyright <2019> <David Pastor Escuredo>\n",
    "\n",
    "#Permission is hereby granted, free of charge, to any person obtaining a copy of this software and associated documentation files (the \"Software\"), to deal in the Software without restriction, including without limitation the rights to use, copy, modify, merge, publish, distribute, sublicense, and/or sell copies of the Software, and to permit persons to whom the Software is furnished to do so, subject to the following conditions:\n",
    "\n",
    "#The above copyright notice and this permission notice shall be included in all copies or substantial portions of the Software.\n",
    "\n",
    "#THE SOFTWARE IS PROVIDED \"AS IS\", WITHOUT WARRANTY OF ANY KIND, EXPRESS OR IMPLIED, INCLUDING BUT NOT LIMITED TO THE WARRANTIES OF MERCHANTABILITY, FITNESS FOR A PARTICULAR PURPOSE AND NONINFRINGEMENT. IN NO EVENT SHALL THE AUTHORS OR COPYRIGHT HOLDERS BE LIABLE FOR ANY CLAIM, DAMAGES OR OTHER LIABILITY, WHETHER IN AN ACTION OF CONTRACT, TORT OR OTHERWISE, ARISING FROM, OUT OF OR IN CONNECTION WITH THE SOFTWARE OR THE USE OR OTHER DEALINGS IN THE SOFTWARE."
   ]
  },
  {
   "cell_type": "code",
   "execution_count": 24,
   "metadata": {},
   "outputs": [],
   "source": [
    "import pandas as pd\n",
    "import numpy as np\n",
    "import json\n",
    "from nltk.tokenize import word_tokenize\n",
    "import re\n",
    "import geopandas as gpd\n",
    "import networkx as nx\n",
    "import matplotlib.pyplot as plt\n",
    "import collections\n",
    "from sklearn.cluster import KMeans\n",
    "from PIL import Image\n",
    "import time\n",
    "from datetime import datetime, timedelta, date\n",
    "from os import listdir\n",
    "from os.path import isfile, join\n",
    "from geopandas import GeoDataFrame\n",
    "from shapely.geometry import Point\n",
    "import pickle\n",
    "import math\n",
    "from timeit import default_timer as timer\n",
    "\n",
    "%matplotlib inline\n",
    "\n",
    "def getday(d):\n",
    "    if d<10:\n",
    "        ds='0'+str(d)\n",
    "    else:\n",
    "        ds=str(d)\n",
    "    return ds"
   ]
  },
  {
   "cell_type": "code",
   "execution_count": 43,
   "metadata": {},
   "outputs": [],
   "source": [
    "datapath='/home/davidpastor/TEF_mob/'\n",
    "netpath=datapath+'nets/'\n",
    "\n",
    "yDay=15\n",
    "region='_medellin'\n",
    "th=0\n",
    "#region=''\n",
    "start = timer()\n",
    "     \n",
    "with open(netpath+'Net2refc'+region+'_th'+str(th)+'.cnf', 'rb') as fpp:\n",
    "    Gf=pickle.load(fpp)\n",
    "    \n",
    "with open(netpath+'Netu2refc'+region+'_th'+str(th)+'.cnf', 'rb') as fpp:\n",
    "    Gu=pickle.load(fpp)    \n",
    "\n",
    "with open(netpath+'Net2c'+'_'+str(yDay)+region+'.cnf', 'rb') as fpp:\n",
    "    G=pickle.load(fpp)\n",
    "    \n",
    "with open(netpath+'Netu2c'+'_'+str(yDay)+region+'.cnf', 'rb') as fpp:\n",
    "    Gu2=pickle.load(fpp)    \n",
    "\n",
    "es_w=[]\n",
    "es = Gf.edges()\n",
    "for e in es:\n",
    "    n1=e[0]\n",
    "    n2=e[1]\n",
    "    w=Gf[n1][n2]['weight']\n",
    "    es_w.append(w)\n",
    "\n",
    "es1_w=[]\n",
    "es1 = Gu.edges()\n",
    "for e in es1:\n",
    "    n1=e[0]\n",
    "    n2=e[1]\n",
    "    w=Gu[n1][n2]['weight']\n",
    "    es1_w.append(w)\n",
    "            \n",
    "es2_w=[]\n",
    "es2 = G.edges()\n",
    "for e in es2:\n",
    "    n1=e[0]\n",
    "    n2=e[1]\n",
    "    w=G[n1][n2]['weight']\n",
    "    es2_w.append(w)\n",
    "    \n",
    "es3_w=[]\n",
    "es3 = Gu2.edges()\n",
    "for e in es3:\n",
    "    n1=e[0]\n",
    "    n2=e[1]\n",
    "    w=Gu2[n1][n2]['weight']\n",
    "    es3_w.append(w)"
   ]
  },
  {
   "cell_type": "code",
   "execution_count": 44,
   "metadata": {},
   "outputs": [
    {
     "name": "stdout",
     "output_type": "stream",
     "text": [
      "153758\n",
      "0\n",
      "113522\n",
      "0\n",
      "52151\n",
      "0\n",
      "41712\n",
      "0\n"
     ]
    }
   ],
   "source": [
    "es_w=np.array(es_w)\n",
    "print(len(es_w))\n",
    "x=(es_w<1)\n",
    "x1=es_w[x]\n",
    "print(len(x1))\n",
    "\n",
    "\n",
    "es1_w=np.array(es1_w)\n",
    "print(len(es1_w))\n",
    "x=(es1_w<1)\n",
    "x1=es1_w[x]\n",
    "print(len(x1))\n",
    "\n",
    "\n",
    "es2_w=np.array(es2_w)\n",
    "print(len(es2_w))\n",
    "x=(es2_w<1)\n",
    "x1=es2_w[x]\n",
    "print(len(x1))\n",
    "\n",
    "es3_w=np.array(es3_w)\n",
    "print(len(es3_w))\n",
    "x=(es3_w<1)\n",
    "x1=es3_w[x]\n",
    "print(len(x1))"
   ]
  },
  {
   "cell_type": "code",
   "execution_count": 47,
   "metadata": {
    "scrolled": true
   },
   "outputs": [
    {
     "name": "stdout",
     "output_type": "stream",
     "text": [
      "2.1356962456154043\n",
      "4.056067956510901\n",
      "2.641282893770958\n",
      "5.071154583812811\n",
      "153758\n",
      "52151\n",
      "113522\n",
      "41712\n",
      "1.6968473341980006\n",
      "2.780965426763389\n",
      "2.01008179724181\n",
      "3.3655310815058392\n",
      "153431\n",
      "51832\n",
      "113166\n",
      "41359\n"
     ]
    },
    {
     "data": {
      "image/png": "[encoded data removed]",
      "text/plain": [
       "<matplotlib.figure.Figure at 0x7f3a83a48550>"
      ]
     },
     "metadata": {},
     "output_type": "display_data"
    },
    {
     "data": {
      "image/png": "[encoded data removed]",
      "text/plain": [
       "<matplotlib.figure.Figure at 0x7f3a839f67f0>"
      ]
     },
     "metadata": {},
     "output_type": "display_data"
    },
    {
     "data": {
      "image/png": "[encoded data removed]",
      "text/plain": [
       "<matplotlib.figure.Figure at 0x7f3a91573358>"
      ]
     },
     "metadata": {},
     "output_type": "display_data"
    },
    {
     "data": {
      "image/png": "[encoded data removed]",
      "text/plain": [
       "<matplotlib.figure.Figure at 0x7f3a8394d198>"
      ]
     },
     "metadata": {},
     "output_type": "display_data"
    }
   ],
   "source": [
    "ave_es=np.mean(es_w)\n",
    "ave_es2=np.mean(es2_w)\n",
    "ave_es1=np.mean(es1_w)\n",
    "ave_es3=np.mean(es3_w)\n",
    "\n",
    "print(ave_es)\n",
    "print(ave_es2)\n",
    "print(ave_es1)\n",
    "print(ave_es3)\n",
    "\n",
    "print(len(es_w))\n",
    "print(len(es2_w))\n",
    "print(len(es1_w))\n",
    "print(len(es3_w))\n",
    "\n",
    "nb=20\n",
    "\n",
    "mn=0\n",
    "mx=100\n",
    "\n",
    "es_w=np.array(es_w)\n",
    "x=((es_w>mn) & (es_w<mx))\n",
    "es_w_f=es_w[x]\n",
    "\n",
    "es1_w=np.array(es1_w)\n",
    "x=((es1_w>mn) & (es1_w<mx))\n",
    "es1_w_f=es1_w[x]\n",
    "\n",
    "es2_w=np.array(es2_w)\n",
    "x=((es2_w>mn) & (es2_w<mx))\n",
    "es2_w_f=es2_w[x]\n",
    "\n",
    "es3_w=np.array(es3_w)\n",
    "x=((es3_w>mn) & (es3_w<mx))\n",
    "es3_w_f=es3_w[x]\n",
    "\n",
    "ave_es=np.mean(es_w_f)\n",
    "ave_es2=np.mean(es2_w_f)\n",
    "ave_es1=np.mean(es1_w_f)\n",
    "ave_es3=np.mean(es3_w_f)\n",
    "\n",
    "print(ave_es)\n",
    "print(ave_es2)\n",
    "print(ave_es1)\n",
    "print(ave_es3)\n",
    "\n",
    "print(len(es_w_f))\n",
    "print(len(es2_w_f))\n",
    "print(len(es1_w_f))\n",
    "print(len(es3_w_f))\n",
    "\n",
    "plt.clf()\n",
    "n, b, patches=plt.hist(es_w_f,bins=nb,color='coral') \n",
    "plt.savefig(\"Figs/Histogram_reference_network\"+region+'_th'+str(th)+'.png')\n",
    "plt.show()\n",
    "\n",
    "plt.clf()\n",
    "n, b, patches=plt.hist(es2_w_f,bins=nb,color='coral') \n",
    "plt.savefig(\"Figs/Histogram_day_network\"+region+'_th'+str(th)+'.png')\n",
    "plt.show()\n",
    "\n",
    "plt.clf()\n",
    "n, b, patches=plt.hist(es1_w_f,bins=nb,color='coral') \n",
    "plt.savefig(\"Figs/Histogram_reference_undir_network\"+region+'_th'+str(th)+'.png')\n",
    "plt.show()\n",
    "\n",
    "plt.clf()\n",
    "n, b, patches=plt.hist(es3_w_f,bins=nb,color='coral') \n",
    "plt.savefig(\"Figs/Histogram_day_undir_network\"+region+'_th'+str(th)+'png')\n",
    "plt.show()"
   ]
  },
  {
   "cell_type": "code",
   "execution_count": 46,
   "metadata": {},
   "outputs": [
    {
     "ename": "NameError",
     "evalue": "name 'dif_time_std' is not defined",
     "output_type": "error",
     "traceback": [
      "\u001b[0;31m---------------------------------------------------------------------------\u001b[0m",
      "\u001b[0;31mNameError\u001b[0m                                 Traceback (most recent call last)",
      "\u001b[0;32m<ipython-input-46-aa3ab209a866>\u001b[0m in \u001b[0;36m<module>\u001b[0;34m()\u001b[0m\n\u001b[0;32m----> 1\u001b[0;31m \u001b[0mprint\u001b[0m\u001b[0;34m(\u001b[0m\u001b[0mdif_time_std\u001b[0m\u001b[0;34m)\u001b[0m\u001b[0;34m\u001b[0m\u001b[0;34m\u001b[0m\u001b[0m\n\u001b[0m",
      "\u001b[0;31mNameError\u001b[0m: name 'dif_time_std' is not defined"
     ]
    }
   ],
   "source": [
    "print(dif_time_std)"
   ]
  },
  {
   "cell_type": "code",
   "execution_count": null,
   "metadata": {},
   "outputs": [],
   "source": []
  },
  {
   "cell_type": "code",
   "execution_count": null,
   "metadata": {},
   "outputs": [],
   "source": []
  }
 ],
 "metadata": {
  "kernelspec": {
   "display_name": "Python 3",
   "language": "python",
   "name": "python3"
  },
  "language_info": {
   "codemirror_mode": {
    "name": "ipython",
    "version": 3
   },
   "file_extension": ".py",
   "mimetype": "text/x-python",
   "name": "python",
   "nbconvert_exporter": "python",
   "pygments_lexer": "ipython3",
   "version": "3.6.9"
  }
 },
 "nbformat": 4,
 "nbformat_minor": 2
}
