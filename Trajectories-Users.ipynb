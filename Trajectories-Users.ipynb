{
 "cells": [
  {
   "cell_type": "code",
   "execution_count": 34,
   "metadata": {},
   "outputs": [],
   "source": [
    "# DELIVERABLE FOR THE PROJECT:\n",
    "# \"KINEMATICS OF MOBILITY\"\n",
    "# David Pastor-Escuredo (Life D Lab)\n",
    "# Licencia MIT"
   ]
  },
  {
   "cell_type": "code",
   "execution_count": 35,
   "metadata": {},
   "outputs": [],
   "source": [
    "#Copyright <2019> <David Pastor Escuredo>\n",
    "\n",
    "#Permission is hereby granted, free of charge, to any person obtaining a copy of this software and associated documentation files (the \"Software\"), to deal in the Software without restriction, including without limitation the rights to use, copy, modify, merge, publish, distribute, sublicense, and/or sell copies of the Software, and to permit persons to whom the Software is furnished to do so, subject to the following conditions:\n",
    "\n",
    "#The above copyright notice and this permission notice shall be included in all copies or substantial portions of the Software.\n",
    "\n",
    "#THE SOFTWARE IS PROVIDED \"AS IS\", WITHOUT WARRANTY OF ANY KIND, EXPRESS OR IMPLIED, INCLUDING BUT NOT LIMITED TO THE WARRANTIES OF MERCHANTABILITY, FITNESS FOR A PARTICULAR PURPOSE AND NONINFRINGEMENT. IN NO EVENT SHALL THE AUTHORS OR COPYRIGHT HOLDERS BE LIABLE FOR ANY CLAIM, DAMAGES OR OTHER LIABILITY, WHETHER IN AN ACTION OF CONTRACT, TORT OR OTHERWISE, ARISING FROM, OUT OF OR IN CONNECTION WITH THE SOFTWARE OR THE USE OR OTHER DEALINGS IN THE SOFTWARE."
   ]
  },
  {
   "cell_type": "code",
   "execution_count": 36,
   "metadata": {},
   "outputs": [],
   "source": [
    "import pandas as pd\n",
    "import numpy as np\n",
    "import json\n",
    "from nltk.tokenize import word_tokenize\n",
    "import re\n",
    "import geopandas as gpd\n",
    "import networkx as nx\n",
    "import matplotlib.pyplot as plt\n",
    "import collections\n",
    "from sklearn.cluster import KMeans\n",
    "from PIL import Image\n",
    "import time\n",
    "from datetime import datetime, timedelta, date\n",
    "from os import listdir\n",
    "from os.path import isfile, join\n",
    "from geopandas import GeoDataFrame\n",
    "from shapely.geometry import Point\n",
    "import pickle\n",
    "import math\n",
    "\n",
    "%matplotlib inline\n",
    "\n",
    "def getday(d):\n",
    "    if d<10:\n",
    "        ds='0'+str(d)\n",
    "    else:\n",
    "        ds=str(d)\n",
    "    return ds"
   ]
  },
  {
   "cell_type": "code",
   "execution_count": 10,
   "metadata": {},
   "outputs": [
    {
     "ename": "KeyError",
     "evalue": "0",
     "output_type": "error",
     "traceback": [
      "\u001b[0;31m---------------------------------------------------------------------------\u001b[0m",
      "\u001b[0;31mKeyError\u001b[0m                                  Traceback (most recent call last)",
      "\u001b[0;32m<ipython-input-10-efbea2e85970>\u001b[0m in \u001b[0;36m<module>\u001b[0;34m()\u001b[0m\n\u001b[1;32m     13\u001b[0m         \u001b[0mtvisited\u001b[0m\u001b[0;34m=\u001b[0m\u001b[0musersTracking\u001b[0m\u001b[0;34m[\u001b[0m\u001b[0mu\u001b[0m\u001b[0;34m]\u001b[0m\u001b[0;34m[\u001b[0m\u001b[0;34m'ts'\u001b[0m\u001b[0;34m]\u001b[0m\u001b[0;34m\u001b[0m\u001b[0m\n\u001b[1;32m     14\u001b[0m         \u001b[0;32mfor\u001b[0m \u001b[0mi\u001b[0m \u001b[0;32min\u001b[0m \u001b[0mrange\u001b[0m\u001b[0;34m(\u001b[0m\u001b[0;36m0\u001b[0m\u001b[0;34m,\u001b[0m \u001b[0mlen\u001b[0m\u001b[0;34m(\u001b[0m\u001b[0mavisited\u001b[0m\u001b[0;34m)\u001b[0m\u001b[0;34m+\u001b[0m\u001b[0;36m1\u001b[0m\u001b[0;34m)\u001b[0m\u001b[0;34m:\u001b[0m\u001b[0;34m\u001b[0m\u001b[0m\n\u001b[0;32m---> 15\u001b[0;31m             \u001b[0maid\u001b[0m\u001b[0;34m=\u001b[0m\u001b[0mavisited\u001b[0m\u001b[0;34m[\u001b[0m\u001b[0mi\u001b[0m\u001b[0;34m]\u001b[0m\u001b[0;34m\u001b[0m\u001b[0m\n\u001b[0m\u001b[1;32m     16\u001b[0m             \u001b[0;32mif\u001b[0m \u001b[0maid\u001b[0m \u001b[0;32min\u001b[0m \u001b[0mGD\u001b[0m\u001b[0;34m:\u001b[0m\u001b[0;34m\u001b[0m\u001b[0m\n\u001b[1;32m     17\u001b[0m                 \u001b[0mind\u001b[0m\u001b[0;34m=\u001b[0m\u001b[0mGD\u001b[0m\u001b[0;34m[\u001b[0m\u001b[0maid\u001b[0m\u001b[0;34m]\u001b[0m\u001b[0;34m[\u001b[0m\u001b[0;34m'ind'\u001b[0m\u001b[0;34m]\u001b[0m\u001b[0;34m\u001b[0m\u001b[0m\n",
      "\u001b[0;31mKeyError\u001b[0m: 0"
     ]
    }
   ],
   "source": [
    "#Create a descriptor vector from the net values of the trajectories\n",
    "netpath='./nets/'\n",
    "trajpath='./trajs/'\n",
    "UD={}\n",
    "for yDay in range(1,2):\n",
    "    with open(trajpath+'usersTracking'+'_'+str(yDay)+'.tff', 'rb') as fpp:\n",
    "        usersTracking=pickle.load(fpp)\n",
    "    with open(netpath+'ND'+'_'+str(yDay)+'.cnf', 'rb') as fpp:\n",
    "        GD=pickle.load(fpp)\n",
    "    with open(netpath+'Net'+'_'+str(yDay)+'.cnf', 'rb') as fpp:\n",
    "        G=pickle.load(fpp)\n",
    "        \n",
    "    for u in usersTracking:\n",
    "        avisited=usersTracking[u]['ss']\n",
    "        tvisited=usersTracking[u]['ts']\n",
    "        if u not in UD:\n",
    "            UD[u]={}\n",
    "            UD[u]['ind']=[]\n",
    "            UD[u]['outd']=[]\n",
    "            UD[u]['balance']=[]\n",
    "            UD[u]['ind_dif']=[]\n",
    "            UD[u]['outd_dif']=[]\n",
    "            UD[u]['distance']=[]\n",
    "            UD[u]['flow']=[]\n",
    "            UD[u]['delta']=[]\n",
    "            UD[u]['speed']=[]\n",
    "        for i in range(1, len(avisited)+1):\n",
    "            aid=avisited[i]    \n",
    "            if aid in GD:\n",
    "                ind=GD[aid]['ind']\n",
    "                outd=GD[aid]['outd']\n",
    "                \n",
    "                UD[u]['ind'].append(ind)\n",
    "                UD[u]['outd'].append(outd)\n",
    "                bal=ind-outd\n",
    "                UD[u]['balance'].append(bal)\n",
    "                \n",
    "                if i<len(avisited):\n",
    "                    aid_next=avisited[i+1]\n",
    "                    if aid_next in GD:\n",
    "                        ind_n=GD[aid_next]['ind']\n",
    "                        outd_n=GD[aid_next]['outd']\n",
    "                        bal_n=ind_n-outd_n\n",
    "                        w=G[aid][aid_next]['weight']\n",
    "                        d=G[aid][aid_next]['distance']\n",
    "                        delta=G[aid][aid_next]['time']\n",
    "                        delta=delta/w#average time\n",
    "                        speed=d/delta#average speed\n",
    "                        UD[u]['ind_dif'].append(ind_n-ind)\n",
    "                        UD[u]['outd_dif'].append(outd_n-outd)\n",
    "                        UD[u]['balance_dif'].append(bal_n-bal)\n",
    "                        UD[u]['flow'].append(w)\n",
    "                        UD[u]['distance'].append(d)\n",
    "                        UD[u]['delta'].append(delta)\n",
    "                        UD[u]['speed'].append(speed)\n",
    "            else:\n",
    "                print(aid)\n",
    "                print(u)\n",
    "                \n",
    "with open('traj-net/UD'+'.cnf', 'wb') as handle:\n",
    "    pickle.dump(UD, handle, protocol=pickle.HIGHEST_PROTOCOL)         "
   ]
  },
  {
   "cell_type": "code",
   "execution_count": 31,
   "metadata": {},
   "outputs": [
    {
     "name": "stdout",
     "output_type": "stream",
     "text": [
      "   Unnamed: 0  LATITUD  LONGITUD Celda_HEX LAC_HEX antenna_id    municipio\n",
      "0           0   4.6092  -74.0718      2711    083F   083F2711  BOGOTÁ D.C.\n",
      "1           1   4.6092  -74.0718      2712    083F   083F2712  BOGOTÁ D.C.\n",
      "2           2   4.6092  -74.0718      2713    083F   083F2713  BOGOTÁ D.C.\n",
      "3           3   4.6092  -74.0718      2714    083F   083F2714  BOGOTÁ D.C.\n",
      "4           4   4.6092  -74.0718      2715    083F   083F2715  BOGOTÁ D.C.\n",
      "['083F2711' '083F2712' '083F2713' ..., '0596D58D' '0565D5C7' '0565D5C8']\n"
     ]
    }
   ],
   "source": []
  },
  {
   "cell_type": "code",
   "execution_count": 42,
   "metadata": {},
   "outputs": [
    {
     "name": "stdout",
     "output_type": "stream",
     "text": [
      "   Unnamed: 0  LATITUD  LONGITUD Celda_HEX LAC_HEX antenna_id    municipio\n",
      "0           0   4.6092  -74.0718      2711    083F   083F2711  BOGOTÁ D.C.\n",
      "1           1   4.6092  -74.0718      2712    083F   083F2712  BOGOTÁ D.C.\n",
      "2           2   4.6092  -74.0718      2713    083F   083F2713  BOGOTÁ D.C.\n",
      "3           3   4.6092  -74.0718      2714    083F   083F2714  BOGOTÁ D.C.\n",
      "4           4   4.6092  -74.0718      2715    083F   083F2715  BOGOTÁ D.C.\n",
      "6757\n"
     ]
    }
   ],
   "source": [
    "#Create a descriptor vector from the net values of the trajectories just for Bogota\n",
    "netpath='./nets/'\n",
    "trajpath='./trajs/'\n",
    "\n",
    "ant_file='antennas/antennas_bogota.csv'\n",
    "sheet=pd.read_csv(ant_file,delimiter=',')\n",
    "print(sheet.head())\n",
    "target_aids=sheet['antenna_id'].values\n",
    "print(len(target_aids)) \n",
    "\n",
    "UD={}\n",
    "for yDay in range(1,2):\n",
    "    with open(trajpath+'usersTracking'+'_'+str(yDay)+'.tff', 'rb') as fpp:\n",
    "        usersTracking=pickle.load(fpp)\n",
    "    with open(netpath+'ND'+'_'+str(yDay)+'.cnf', 'rb') as fpp:\n",
    "        GD=pickle.load(fpp)\n",
    "    \n",
    "    for u in usersTracking:\n",
    "        avisited=usersTracking[u]['ss']\n",
    "        tvisited=usersTracking[u]['ts']\n",
    "        for i in range(1, len(avisited)+1):\n",
    "            aid=avisited[i]\n",
    "            if aid in target_aids:\n",
    "                if aid in GD:\n",
    "                    ind=GD[aid]['ind']\n",
    "                    outd=GD[aid]['outd']\n",
    "                    if u not in UD:\n",
    "                        UD[u]={}\n",
    "                        UD[u]['ind']=[]\n",
    "                        UD[u]['outd']=[]\n",
    "                        UD[u]['balance']=[]\n",
    "                    UD[u]['ind'].append(ind)\n",
    "                    UD[u]['outd'].append(outd)\n",
    "                    bal=ind-outd\n",
    "                    UD[u]['balance'].append(bal)\n",
    "                else:\n",
    "                    print(aid)\n",
    "                    print(u)\n",
    "\n",
    "with open('traj-net/UD_bogota+'.cnf', 'wb') as handle:\n",
    "    pickle.dump(UD, handle, protocol=pickle.HIGHEST_PROTOCOL)"
   ]
  },
  {
   "cell_type": "code",
   "execution_count": 46,
   "metadata": {},
   "outputs": [],
   "source": [
    "UDesc={}\n",
    "tag='_bogota'\n",
    "tag=''\n",
    "for yDay in range(1,2):\n",
    "    with open('traj-net/UD'+tag+'.cnf', 'rb') as fpp:\n",
    "        UD=pickle.load(fpp)\n",
    "        \n",
    "    for u in UD:\n",
    "        if u not in UDesc:\n",
    "            UDesc[u]={}\n",
    "            UDesc[u]['inave']=0\n",
    "            UDesc[u]['outave']=0\n",
    "            UDesc[u]['balave']=0\n",
    "        traj_in=UD[u]['ind']\n",
    "        traj_out=UD[u]['outd']\n",
    "        traj_bal=UD[u]['balance']\n",
    "        lenTraj=len(traj_in)\n",
    "        inave=0\n",
    "        outave=0\n",
    "        balave=0\n",
    "        for i in range(0,lenTraj):\n",
    "            inave=inave+traj_in[i]\n",
    "            outave=outave+traj_out[i]\n",
    "            balave=balave+traj_bal[i]\n",
    "        inave=inave/lenTraj    \n",
    "        outave=outave/lenTraj\n",
    "        balave=balave/lenTraj\n",
    "        UDesc[u]['inave']=inave\n",
    "        UDesc[u]['outave']=outave\n",
    "        UDesc[u]['balave']=balave\n",
    "    \n",
    "with open('traj-net/UD_Desc'+tag+'.cnf', 'wb') as handle:\n",
    "    pickle.dump(UDesc, handle, protocol=pickle.HIGHEST_PROTOCOL)  \n",
    "        \n",
    "        "
   ]
  },
  {
   "cell_type": "code",
   "execution_count": 52,
   "metadata": {},
   "outputs": [
    {
     "name": "stdout",
     "output_type": "stream",
     "text": [
      "198391\n",
      "198391\n",
      "198391\n",
      "(array([13]),)\n"
     ]
    },
    {
     "data": {
      "text/plain": [
       "<matplotlib.text.Text at 0x133be65f8>"
      ]
     },
     "execution_count": 52,
     "metadata": {},
     "output_type": "execute_result"
    },
    {
     "data": {
      "image/png": "[encoded data removed]",
      "text/plain": [
       "<matplotlib.figure.Figure at 0x124cadcc0>"
      ]
     },
     "metadata": {},
     "output_type": "display_data"
    }
   ],
   "source": [
    "tag='_bogota'\n",
    "#tag=''\n",
    "with open('traj-net/UD_Desc'+tag+'.cnf', 'rb') as fpp:\n",
    "    UDesc=pickle.load(fpp)\n",
    "\n",
    "print(len(UDesc.keys()))\n",
    "vector=[]\n",
    "for u in UDesc:\n",
    "    vector.append(UDesc[u]['inave'])\n",
    "    \n",
    "print(len(UDesc.keys()))\n",
    "print(len(vector))\n",
    "n, b, patches=plt.hist(vector,bins=100,color='khaki')\n",
    "print(bin_max)\n",
    "bin_max = np.where(n == n.max())\n",
    "plt.axvline(x=b[bin_max][0], color='k', linestyle='--')\n",
    "plt.xlabel(\"Average in-degree\")\n",
    "plt.ylabel(\"#people\")"
   ]
  },
  {
   "cell_type": "code",
   "execution_count": 56,
   "metadata": {
    "scrolled": false
   },
   "outputs": [
    {
     "name": "stdout",
     "output_type": "stream",
     "text": [
      "1822272\n",
      "1822272\n",
      "1822272\n",
      "(array([12]),)\n"
     ]
    },
    {
     "data": {
      "text/plain": [
       "<matplotlib.text.Text at 0x17f497f28>"
      ]
     },
     "execution_count": 56,
     "metadata": {},
     "output_type": "execute_result"
    },
    {
     "data": {
      "image/png": "[encoded data removed]",
      "text/plain": [
       "<matplotlib.figure.Figure at 0x13adab940>"
      ]
     },
     "metadata": {},
     "output_type": "display_data"
    }
   ],
   "source": [
    "tag='_bogota'\n",
    "tag=''\n",
    "with open('traj-net/UD_Desc'+tag+'.cnf', 'rb') as fpp:\n",
    "    UDesc=pickle.load(fpp)\n",
    "\n",
    "print(len(UDesc.keys()))\n",
    "vector=[]\n",
    "for u in UDesc:\n",
    "    vector.append(UDesc[u]['outave'])\n",
    "    \n",
    "print(len(UDesc.keys()))\n",
    "print(len(vector))\n",
    "n, b, patches=plt.hist(vector,bins=100,color='khaki')\n",
    "print(bin_max)\n",
    "bin_max = np.where(n == n.max())\n",
    "plt.axvline(x=b[bin_max][0], color='k', linestyle='--')\n",
    "plt.xlabel(\"Average out-degree\")\n",
    "plt.ylabel(\"#people\")"
   ]
  },
  {
   "cell_type": "code",
   "execution_count": 54,
   "metadata": {},
   "outputs": [
    {
     "name": "stdout",
     "output_type": "stream",
     "text": [
      "1822272\n",
      "1822272\n",
      "1822272\n",
      "(array([50]),)\n"
     ]
    },
    {
     "data": {
      "text/plain": [
       "<matplotlib.text.Text at 0x14252f588>"
      ]
     },
     "execution_count": 54,
     "metadata": {},
     "output_type": "execute_result"
    },
    {
     "data": {
      "image/png": "[encoded data removed]",
      "text/plain": [
       "<matplotlib.figure.Figure at 0x14362a5c0>"
      ]
     },
     "metadata": {},
     "output_type": "display_data"
    }
   ],
   "source": [
    "tag='_bogota'\n",
    "tag=''\n",
    "with open('traj-net/UD_Desc'+tag+'.cnf', 'rb') as fpp:\n",
    "    UDesc=pickle.load(fpp)\n",
    "\n",
    "print(len(UDesc.keys()))\n",
    "vector=[]\n",
    "for u in UDesc:\n",
    "    vector.append(UDesc[u]['balave'])\n",
    "    \n",
    "print(len(UDesc.keys()))\n",
    "print(len(vector))\n",
    "n, b, patches=plt.hist(vector,bins=100,color='khaki')\n",
    "print(bin_max)\n",
    "bin_max = np.where(n == n.max())\n",
    "plt.axvline(x=b[bin_max][0], color='k', linestyle='--')\n",
    "plt.xlabel(\"Average in vs out-degree\")\n",
    "plt.ylabel(\"#people\")"
   ]
  },
  {
   "cell_type": "code",
   "execution_count": null,
   "metadata": {},
   "outputs": [],
   "source": []
  }
 ],
 "metadata": {
  "kernelspec": {
   "display_name": "Python 3",
   "language": "python",
   "name": "python3"
  },
  "language_info": {
   "codemirror_mode": {
    "name": "ipython",
    "version": 3
   },
   "file_extension": ".py",
   "mimetype": "text/x-python",
   "name": "python",
   "nbconvert_exporter": "python",
   "pygments_lexer": "ipython3",
   "version": "3.6.9"
  }
 },
 "nbformat": 4,
 "nbformat_minor": 2
}
