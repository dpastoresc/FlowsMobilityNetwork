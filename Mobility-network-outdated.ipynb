{
 "cells": [
  {
   "cell_type": "code",
   "execution_count": 14,
   "metadata": {},
   "outputs": [],
   "source": [
    "# DELIVERABLE FOR THE PROJECT:\n",
    "# \"KINEMATICS OF MOBILITY\"\n",
    "# David Pastor-Escuredo (Life D Lab)\n",
    "# Licencia MIT"
   ]
  },
  {
   "cell_type": "code",
   "execution_count": 15,
   "metadata": {},
   "outputs": [],
   "source": [
    "#Copyright <2019> <David Pastor Escuredo>\n",
    "\n",
    "#Permission is hereby granted, free of charge, to any person obtaining a copy of this software and associated documentation files (the \"Software\"), to deal in the Software without restriction, including without limitation the rights to use, copy, modify, merge, publish, distribute, sublicense, and/or sell copies of the Software, and to permit persons to whom the Software is furnished to do so, subject to the following conditions:\n",
    "\n",
    "#The above copyright notice and this permission notice shall be included in all copies or substantial portions of the Software.\n",
    "\n",
    "#THE SOFTWARE IS PROVIDED \"AS IS\", WITHOUT WARRANTY OF ANY KIND, EXPRESS OR IMPLIED, INCLUDING BUT NOT LIMITED TO THE WARRANTIES OF MERCHANTABILITY, FITNESS FOR A PARTICULAR PURPOSE AND NONINFRINGEMENT. IN NO EVENT SHALL THE AUTHORS OR COPYRIGHT HOLDERS BE LIABLE FOR ANY CLAIM, DAMAGES OR OTHER LIABILITY, WHETHER IN AN ACTION OF CONTRACT, TORT OR OTHERWISE, ARISING FROM, OUT OF OR IN CONNECTION WITH THE SOFTWARE OR THE USE OR OTHER DEALINGS IN THE SOFTWARE."
   ]
  },
  {
   "cell_type": "code",
   "execution_count": 18,
   "metadata": {},
   "outputs": [],
   "source": [
    "import pandas as pd\n",
    "import numpy as np\n",
    "import json\n",
    "from nltk.tokenize import word_tokenize\n",
    "import re\n",
    "import geopandas as gpd\n",
    "import networkx as nx\n",
    "import matplotlib.pyplot as plt\n",
    "import collections\n",
    "from sklearn.cluster import KMeans\n",
    "from PIL import Image\n",
    "import time\n",
    "from datetime import datetime, timedelta, date\n",
    "from os import listdir\n",
    "from os.path import isfile, join\n",
    "from geopandas import GeoDataFrame\n",
    "from shapely.geometry import Point\n",
    "import pickle\n",
    "import math\n",
    "\n",
    "%matplotlib inline\n",
    "\n",
    "def getday(d):\n",
    "    if d<10:\n",
    "        ds='0'+str(d)\n",
    "    else:\n",
    "        ds=str(d)\n",
    "    return ds\n",
    "\n",
    "def distAntenna(origvector,desvector):\n",
    "    d=math.pow((origvector[0]-desvector[0]),2)+math.pow((origvector[1]-desvector[1]),2)\n",
    "    d=math.sqrt(d)"
   ]
  },
  {
   "cell_type": "code",
   "execution_count": 4,
   "metadata": {
    "scrolled": true
   },
   "outputs": [
    {
     "name": "stdout",
     "output_type": "stream",
     "text": [
      "29865\n",
      "   index  LATITUD  LONGITUD Celda_HEX LAC_HEX antenna_id\n",
      "0      0   4.6092  -74.0718      2711    083F   083F2711\n",
      "1      1   4.6092  -74.0718      2712    083F   083F2712\n",
      "2      2   4.6092  -74.0718      2713    083F   083F2713\n",
      "3      3   4.6092  -74.0718      2714    083F   083F2714\n",
      "4      4   4.6092  -74.0718      2715    083F   083F2715\n",
      "   index  LATITUD  LONGITUD Celda_HEX LAC_HEX antenna_id\n",
      "0      0   4.6092  -74.0718      2711    083F   083F2711\n",
      "[-78.681]\n"
     ]
    }
   ],
   "source": [
    "ant_file='antennas/antennas_colombia.csv'\n",
    "#xls=pd.ExcelFile(ant_file)#,decimal=',')\n",
    "#sheet=xls.parse(0)\n",
    "sheet=pd.read_csv(ant_file,delimiter=',')\n",
    "print(len(sheet))\n",
    "print(sheet.head())\n",
    "aid=sheet['antenna_id']\n",
    "ss=sheet[aid=='083F2711']\n",
    "print(ss)\n",
    "print(ss.LONGITUD.values-ss.LATITUD.values)\n",
    "d=ss.LONGITUD.values[0]-ss.LATITUD.values[0]"
   ]
  },
  {
   "cell_type": "code",
   "execution_count": 6,
   "metadata": {
    "scrolled": false
   },
   "outputs": [
    {
     "name": "stdout",
     "output_type": "stream",
     "text": [
      "1822272\n"
     ]
    },
    {
     "ename": "KeyError",
     "evalue": "19",
     "output_type": "error",
     "traceback": [
      "\u001b[0;31m---------------------------------------------------------------------------\u001b[0m",
      "\u001b[0;31mKeyError\u001b[0m                                  Traceback (most recent call last)",
      "\u001b[0;32m<ipython-input-6-f840730126d8>\u001b[0m in \u001b[0;36m<module>\u001b[0;34m()\u001b[0m\n\u001b[1;32m     20\u001b[0m         \u001b[0;32mfor\u001b[0m \u001b[0mi\u001b[0m \u001b[0;32min\u001b[0m \u001b[0mrange\u001b[0m\u001b[0;34m(\u001b[0m\u001b[0;36m1\u001b[0m\u001b[0;34m,\u001b[0m \u001b[0mlen\u001b[0m\u001b[0;34m(\u001b[0m\u001b[0mavisited\u001b[0m\u001b[0;34m)\u001b[0m\u001b[0;34m+\u001b[0m\u001b[0;36m1\u001b[0m\u001b[0;34m)\u001b[0m\u001b[0;34m:\u001b[0m\u001b[0;34m\u001b[0m\u001b[0m\n\u001b[1;32m     21\u001b[0m             \u001b[0morig\u001b[0m\u001b[0;34m=\u001b[0m\u001b[0mavisited\u001b[0m\u001b[0;34m[\u001b[0m\u001b[0mi\u001b[0m\u001b[0;34m]\u001b[0m\u001b[0;34m\u001b[0m\u001b[0m\n\u001b[0;32m---> 22\u001b[0;31m             \u001b[0mdest\u001b[0m\u001b[0;34m=\u001b[0m\u001b[0mavisited\u001b[0m\u001b[0;34m[\u001b[0m\u001b[0mi\u001b[0m\u001b[0;34m+\u001b[0m\u001b[0;36m1\u001b[0m\u001b[0;34m]\u001b[0m\u001b[0;34m\u001b[0m\u001b[0m\n\u001b[0m\u001b[1;32m     23\u001b[0m             \u001b[0mso\u001b[0m\u001b[0;34m=\u001b[0m\u001b[0msheet\u001b[0m\u001b[0;34m[\u001b[0m\u001b[0maid\u001b[0m\u001b[0;34m==\u001b[0m\u001b[0morig\u001b[0m\u001b[0;34m]\u001b[0m\u001b[0;34m\u001b[0m\u001b[0m\n\u001b[1;32m     24\u001b[0m             \u001b[0msd\u001b[0m\u001b[0;34m=\u001b[0m\u001b[0msheet\u001b[0m\u001b[0;34m[\u001b[0m\u001b[0maid\u001b[0m\u001b[0;34m==\u001b[0m\u001b[0mdest\u001b[0m\u001b[0;34m]\u001b[0m\u001b[0;34m\u001b[0m\u001b[0m\n",
      "\u001b[0;31mKeyError\u001b[0m: 19"
     ]
    }
   ],
   "source": [
    "trajpath='./trajs/'\n",
    "deltaMax=200\n",
    "for yDay in range(1,2):\n",
    "    with open(trajpath+'usersTracking'+'_'+str(yDay)+'.tff', 'rb') as fpp:\n",
    "        usersTracking=pickle.load(fpp)\n",
    "    users=usersTracking.keys()\n",
    "    usersl=list(users)\n",
    "    print(len(users))\n",
    "    avuser=[]\n",
    "    G=nx.DiGraph()\n",
    "    for i in range(0,1):\n",
    "        u=usersl[i]\n",
    "    #for u in users:\n",
    "        #print(usersTracking[u].keys())\n",
    "        avisited=usersTracking[u]['ss']\n",
    "        tvisited=usersTracking[u]['ts']\n",
    "        avuser.append(len(avisited))\n",
    "        #print(len(avisited))\n",
    "        #print(usersTracking[u][yDay]['sc'])\n",
    "        for i in range(1, len(avisited)):\n",
    "            orig=avisited[i]\n",
    "            dest=avisited[i+1]\n",
    "            so=sheet[aid==orig]\n",
    "            sd=sheet[aid==dest]\n",
    "            #print(so)\n",
    "            #print(sd)\n",
    "            solon=so.LONGITUD.values[0]\n",
    "            sdlon=sd.LONGITUD.values[0]\n",
    "            solat=so.LATITUD.values[0]\n",
    "            sdlat=sd.LATITUD.values[0]\n",
    "            distance=math.sqrt((solon-sdlon)**2+(solat-sdlat)**2)\n",
    "            delta=tvisited[i+1]-tvisited[i]\n",
    "            ##print(distance)\n",
    "            ##print(delta)\n",
    "            \n",
    "            if orig=='139E2CC5' or dest=='139E2CC5':\n",
    "                print(so)\n",
    "                print(sd)\n",
    "                \n",
    "            #print(avisited[i])\n",
    "            #print(avisited[i+1])\n",
    "            if not G.has_node(orig):\n",
    "                G.add_node(orig)\n",
    "            if not G.has_node(dest):\n",
    "                G.add_node(dest)\n",
    "            if not G.has_edge(orig,dest):  \n",
    "                G.add_edge(orig,dest)  \n",
    "                G[orig][dest]['weight']=1\n",
    "            else:\n",
    "                G[orig][dest]['weight']=G[orig][dest]['weight']+1\n",
    "\n",
    "    with open('nets/Net_'+str(yDay)+'.cnf', 'wb') as handle:\n",
    "        pickle.dump(G, handle, protocol=pickle.HIGHEST_PROTOCOL)\n",
    "        "
   ]
  },
  {
   "cell_type": "code",
   "execution_count": 19,
   "metadata": {
    "scrolled": false
   },
   "outputs": [
    {
     "name": "stdout",
     "output_type": "stream",
     "text": [
      "   index  LATITUD  LONGITUD Celda_HEX LAC_HEX antenna_id\n",
      "0      0   4.6092  -74.0718      2711    083F   083F2711\n",
      "1      1   4.6092  -74.0718      2712    083F   083F2712\n",
      "2      2   4.6092  -74.0718      2713    083F   083F2713\n",
      "3      3   4.6092  -74.0718      2714    083F   083F2714\n",
      "4      4   4.6092  -74.0718      2715    083F   083F2715\n"
     ]
    }
   ],
   "source": [
    "ant_file='antennas/antennas_colombia.csv'\n",
    "sheet=pd.read_csv(ant_file,delimiter=',')\n",
    "print(sheet.head())\n",
    "aid=sheet['antenna_id']"
   ]
  },
  {
   "cell_type": "code",
   "execution_count": 26,
   "metadata": {},
   "outputs": [
    {
     "name": "stdout",
     "output_type": "stream",
     "text": [
      "29865\n",
      "1822272\n"
     ]
    }
   ],
   "source": [
    "#Creates mobility network\n",
    "#The traffic of the network is computed in a daily basis\n",
    "#OUTDATED\n",
    "\n",
    "trajpath='./trajs/'\n",
    "ant_file='antennas/antennas_colombia.csv'\n",
    "sheet=pd.read_csv(ant_file,delimiter=',')\n",
    "print(len(sheet))\n",
    "aid=sheet['antenna_id']\n",
    "\n",
    "for yDay in range(1,2):\n",
    "    with open(trajpath+'usersTracking'+'_'+str(yDay)+'.tff', 'rb') as fpp:\n",
    "        usersTracking=pickle.load(fpp)\n",
    "    users=usersTracking.keys()\n",
    "    print(len(users))\n",
    "    avuser=[]\n",
    "    avuser2=[]\n",
    "    G=nx.DiGraph()\n",
    "    for u in users:\n",
    "        #print(usersTracking[u].keys())\n",
    "        avisited=usersTracking[u]['ss']\n",
    "        tvisited=usersTracking[u]['ts']\n",
    "        avuser.append(len(avisited))\n",
    "        avuser2.append(usersTracking[u]['sc'])\n",
    "        #print(len(avisited))\n",
    "        #print(usersTracking[u][yDay]['sc'])\n",
    "        if len(avisited)>1:\n",
    "            for i in range(1, len(avisited)):\n",
    "                orig=avisited[i]\n",
    "                dest=avisited[i+1]\n",
    "                ao=sheet[aid==orig]\n",
    "                ad=sheet[aid==dest]\n",
    "                aolat=ao.LATITUD.values[0]\n",
    "                aolon=ao.LONGITUD.values[0]\n",
    "                adlat=ad.LATITUD.values[0]\n",
    "                adlon=ad.LONGITUD.values[0]\n",
    "                #print(avisited[i])\n",
    "                #print(avisited[i+1])\n",
    "                if not G.has_node(orig):\n",
    "                    G.add_node(orig)\n",
    "                if not G.has_node(dest):\n",
    "                    G.add_node(dest)\n",
    "                if not G.has_edge(orig,dest):  \n",
    "                    G.add_edge(orig,dest)  \n",
    "                    #Flow\n",
    "                    G[orig][dest]['weight']=1\n",
    "                    #Distance\n",
    "                    d=math.sqrt(math.pow((aolat-adlat),2)+math.pow((aolon-adlon),2))\n",
    "                    G[orig][dest]['distance']=d\n",
    "                    #Speed-> too sensitive to sampling\n",
    "                    delta=tvisited[i+1]-tvisited[i]\n",
    "                    G[orig][dest]['time']=delta\n",
    "                else:\n",
    "                    G[orig][dest]['weight']=G[orig][dest]['weight']+1\n",
    "                    G[orig][dest]['time']=G[orig][dest]['time']+delta\n",
    "        else:\n",
    "            orig=avisited[1]\n",
    "            if not G.has_node(orig):\n",
    "                G.add_node(orig)\n",
    "\n",
    "    with open('nets/Net_'+str(yDay)+'.cnf', 'wb') as handle:\n",
    "        pickle.dump(G, handle, protocol=pickle.HIGHEST_PROTOCOL)"
   ]
  },
  {
   "cell_type": "code",
   "execution_count": null,
   "metadata": {},
   "outputs": [],
   "source": [
    "print(np.max(avuser))\n",
    "print(np.max(avuser2))"
   ]
  },
  {
   "cell_type": "code",
   "execution_count": 14,
   "metadata": {
    "scrolled": true
   },
   "outputs": [
    {
     "data": {
      "text/plain": [
       "(array([  1.77825400e+06,   3.60180000e+04,   6.05200000e+03,\n",
       "          1.40300000e+03,   3.96000000e+02,   1.08000000e+02,\n",
       "          3.10000000e+01,   6.00000000e+00,   3.00000000e+00,\n",
       "          1.00000000e+00]),\n",
       " array([   1. ,   27.9,   54.8,   81.7,  108.6,  135.5,  162.4,  189.3,\n",
       "         216.2,  243.1,  270. ]),\n",
       " <a list of 10 Patch objects>)"
      ]
     },
     "execution_count": 14,
     "metadata": {},
     "output_type": "execute_result"
    },
    {
     "data": {
      "image/png": "[encoded data removed]",
      "text/plain": [
       "<matplotlib.figure.Figure at 0x1ea1ba9e8>"
      ]
     },
     "metadata": {},
     "output_type": "display_data"
    }
   ],
   "source": [
    "plt.hist(avuser)"
   ]
  },
  {
   "cell_type": "code",
   "execution_count": 29,
   "metadata": {
    "scrolled": true
   },
   "outputs": [
    {
     "ename": "KeyError",
     "evalue": "10",
     "output_type": "error",
     "traceback": [
      "\u001b[0;31m---------------------------------------------------------------------------\u001b[0m",
      "\u001b[0;31mKeyError\u001b[0m                                  Traceback (most recent call last)",
      "\u001b[0;32m<ipython-input-29-ac6688b781d5>\u001b[0m in \u001b[0;36m<module>\u001b[0;34m()\u001b[0m\n\u001b[1;32m      7\u001b[0m     \u001b[0;31m#Directed graph\u001b[0m\u001b[0;34m\u001b[0m\u001b[0;34m\u001b[0m\u001b[0m\n\u001b[1;32m      8\u001b[0m \u001b[0mns\u001b[0m\u001b[0;34m=\u001b[0m\u001b[0mG\u001b[0m\u001b[0;34m.\u001b[0m\u001b[0mnodes\u001b[0m\u001b[0;34m(\u001b[0m\u001b[0;34m)\u001b[0m\u001b[0;34m\u001b[0m\u001b[0m\n\u001b[0;32m----> 9\u001b[0;31m \u001b[0mn1\u001b[0m\u001b[0;34m=\u001b[0m\u001b[0mns\u001b[0m\u001b[0;34m[\u001b[0m\u001b[0;36m10\u001b[0m\u001b[0;34m]\u001b[0m\u001b[0;34m\u001b[0m\u001b[0m\n\u001b[0m\u001b[1;32m     10\u001b[0m \u001b[0mprint\u001b[0m\u001b[0;34m(\u001b[0m\u001b[0mG\u001b[0m\u001b[0;34m[\u001b[0m\u001b[0mn1\u001b[0m\u001b[0;34m]\u001b[0m\u001b[0;34m)\u001b[0m\u001b[0;34m\u001b[0m\u001b[0m\n\u001b[1;32m     11\u001b[0m \u001b[0mprint\u001b[0m\u001b[0;34m(\u001b[0m\u001b[0mGund\u001b[0m\u001b[0;34m[\u001b[0m\u001b[0mn1\u001b[0m\u001b[0;34m]\u001b[0m\u001b[0;34m)\u001b[0m\u001b[0;34m\u001b[0m\u001b[0m\n",
      "\u001b[0;32m/Library/Frameworks/Python.framework/Versions/3.6/lib/python3.6/site-packages/networkx/classes/reportviews.py\u001b[0m in \u001b[0;36m__getitem__\u001b[0;34m(self, n)\u001b[0m\n\u001b[1;32m    176\u001b[0m \u001b[0;34m\u001b[0m\u001b[0m\n\u001b[1;32m    177\u001b[0m     \u001b[0;32mdef\u001b[0m \u001b[0m__getitem__\u001b[0m\u001b[0;34m(\u001b[0m\u001b[0mself\u001b[0m\u001b[0;34m,\u001b[0m \u001b[0mn\u001b[0m\u001b[0;34m)\u001b[0m\u001b[0;34m:\u001b[0m\u001b[0;34m\u001b[0m\u001b[0m\n\u001b[0;32m--> 178\u001b[0;31m         \u001b[0;32mreturn\u001b[0m \u001b[0mself\u001b[0m\u001b[0;34m.\u001b[0m\u001b[0m_nodes\u001b[0m\u001b[0;34m[\u001b[0m\u001b[0mn\u001b[0m\u001b[0;34m]\u001b[0m\u001b[0;34m\u001b[0m\u001b[0m\n\u001b[0m\u001b[1;32m    179\u001b[0m \u001b[0;34m\u001b[0m\u001b[0m\n\u001b[1;32m    180\u001b[0m     \u001b[0;31m# Set methods\u001b[0m\u001b[0;34m\u001b[0m\u001b[0;34m\u001b[0m\u001b[0m\n",
      "\u001b[0;31mKeyError\u001b[0m: 10"
     ]
    }
   ],
   "source": [
    "datapath='./'\n",
    "netpath=datapath+'nets/'\n",
    "with open(netpath+'Net'+'_'+str(1)+'.cnf', 'rb') as fpp:\n",
    "        G=pickle.load(fpp)\n",
    "ns=G.nodes()\n",
    "Gund=G.to_undirected()\n",
    "    #Directed graph\n",
    "ns=G.nodes()\n",
    "\n",
    "    "
   ]
  },
  {
   "cell_type": "code",
   "execution_count": 44,
   "metadata": {},
   "outputs": [
    {
     "name": "stdout",
     "output_type": "stream",
     "text": [
      "{'weight': 5, 'distance': 0.019509269591659693, 'time': 48490}\n",
      "{'weight': 4, 'distance': 0.019509269591659693, 'time': 9857}\n",
      "{'weight': 5, 'distance': 0.019509269591659693, 'time': 48490}\n",
      "{'weight': 5, 'distance': 0.019509269591659693, 'time': 48490}\n"
     ]
    }
   ],
   "source": [
    "ns=list(ns)\n",
    "n1=ns[10]\n",
    "n2='1042AB62'\n",
    "#print(G[n1])\n",
    "print(G[n1][n2])\n",
    "print(G[n2][n1])\n",
    "print(Gund[n1][n2])\n",
    "print(Gund[n2][n1])"
   ]
  },
  {
   "cell_type": "code",
   "execution_count": 48,
   "metadata": {},
   "outputs": [
    {
     "name": "stdout",
     "output_type": "stream",
     "text": [
      "True\n",
      "False\n"
     ]
    }
   ],
   "source": [
    "G=nx.DiGraph()\n",
    "G.add_node('1')\n",
    "G.add_node('2')\n",
    "G.add_edge('1','2') \n",
    "print(G.has_edge('1','2')) \n",
    "print(G.has_edge('2','1')) "
   ]
  },
  {
   "cell_type": "code",
   "execution_count": 53,
   "metadata": {},
   "outputs": [
    {
     "name": "stdout",
     "output_type": "stream",
     "text": [
      "23545\n"
     ]
    },
    {
     "ename": "NetworkXNotImplemented",
     "evalue": "not implemented for directed type",
     "output_type": "error",
     "traceback": [
      "\u001b[0;31m---------------------------------------------------------------------------\u001b[0m",
      "\u001b[0;31mNetworkXNotImplemented\u001b[0m                    Traceback (most recent call last)",
      "\u001b[0;32m<ipython-input-53-39f323f716f0>\u001b[0m in \u001b[0;36m<module>\u001b[0;34m()\u001b[0m\n\u001b[1;32m     14\u001b[0m     \u001b[0mGrev\u001b[0m\u001b[0;34m=\u001b[0m\u001b[0mG\u001b[0m\u001b[0;34m.\u001b[0m\u001b[0mreverse\u001b[0m\u001b[0;34m(\u001b[0m\u001b[0;34m)\u001b[0m\u001b[0;34m\u001b[0m\u001b[0m\n\u001b[1;32m     15\u001b[0m     \u001b[0;31m#Closeness centrality\u001b[0m\u001b[0;34m\u001b[0m\u001b[0;34m\u001b[0m\u001b[0m\n\u001b[0;32m---> 16\u001b[0;31m     \u001b[0mCICN\u001b[0m\u001b[0;34m=\u001b[0m\u001b[0mnx\u001b[0m\u001b[0;34m.\u001b[0m\u001b[0mcurrent_flow_closeness_centrality\u001b[0m\u001b[0;34m(\u001b[0m\u001b[0mG\u001b[0m\u001b[0;34m,\u001b[0m\u001b[0mweight\u001b[0m\u001b[0;34m=\u001b[0m\u001b[0;34m'weight'\u001b[0m\u001b[0;34m)\u001b[0m\u001b[0;34m\u001b[0m\u001b[0m\n\u001b[0m\u001b[1;32m     17\u001b[0m     \u001b[0mCOCN\u001b[0m\u001b[0;34m=\u001b[0m\u001b[0mnx\u001b[0m\u001b[0;34m.\u001b[0m\u001b[0mcurrent_flow_closeness_centrality\u001b[0m\u001b[0;34m(\u001b[0m\u001b[0mGrev\u001b[0m\u001b[0;34m,\u001b[0m\u001b[0mweight\u001b[0m\u001b[0;34m=\u001b[0m\u001b[0;34m'weight'\u001b[0m\u001b[0;34m)\u001b[0m\u001b[0;34m\u001b[0m\u001b[0m\n\u001b[1;32m     18\u001b[0m     \u001b[0;31m#Betweenness centrality\u001b[0m\u001b[0;34m\u001b[0m\u001b[0;34m\u001b[0m\u001b[0m\n",
      "\u001b[0;32m<decorator-gen-160>\u001b[0m in \u001b[0;36mcurrent_flow_closeness_centrality\u001b[0;34m(G, weight, dtype, solver)\u001b[0m\n",
      "\u001b[0;32m/Library/Frameworks/Python.framework/Versions/3.6/lib/python3.6/site-packages/networkx/utils/decorators.py\u001b[0m in \u001b[0;36m_not_implemented_for\u001b[0;34m(f, *args, **kwargs)\u001b[0m\n\u001b[1;32m     66\u001b[0m         \u001b[0mgraph\u001b[0m \u001b[0;34m=\u001b[0m \u001b[0margs\u001b[0m\u001b[0;34m[\u001b[0m\u001b[0;36m0\u001b[0m\u001b[0;34m]\u001b[0m\u001b[0;34m\u001b[0m\u001b[0m\n\u001b[1;32m     67\u001b[0m         terms = {'directed': graph.is_directed(),\n\u001b[0;32m---> 68\u001b[0;31m                  \u001b[0;34m'undirected'\u001b[0m\u001b[0;34m:\u001b[0m \u001b[0;32mnot\u001b[0m \u001b[0mgraph\u001b[0m\u001b[0;34m.\u001b[0m\u001b[0mis_directed\u001b[0m\u001b[0;34m(\u001b[0m\u001b[0;34m)\u001b[0m\u001b[0;34m,\u001b[0m\u001b[0;34m\u001b[0m\u001b[0m\n\u001b[0m\u001b[1;32m     69\u001b[0m                  \u001b[0;34m'multigraph'\u001b[0m\u001b[0;34m:\u001b[0m \u001b[0mgraph\u001b[0m\u001b[0;34m.\u001b[0m\u001b[0mis_multigraph\u001b[0m\u001b[0;34m(\u001b[0m\u001b[0;34m)\u001b[0m\u001b[0;34m,\u001b[0m\u001b[0;34m\u001b[0m\u001b[0m\n\u001b[1;32m     70\u001b[0m                  'graph': not graph.is_multigraph()}\n",
      "\u001b[0;31mNetworkXNotImplemented\u001b[0m: not implemented for directed type"
     ]
    }
   ],
   "source": [
    "#We save descriptors for each node of the network\n",
    "#Descriptors are calculated in a daily basis\n",
    "#OUTDATED\n",
    "datapath='./'\n",
    "netpath=datapath+'nets/'\n",
    "GD={}\n",
    "for yDay in range(1,2):\n",
    "    with open(netpath+'Net'+'_'+str(yDay)+'.cnf', 'rb') as fpp:\n",
    "        G=pickle.load(fpp)\n",
    "    ns=G.nodes()\n",
    "    \n",
    "    print(len(ns))\n",
    "    #Algorithms to compute different types of centrality\n",
    "    Grev=G.reverse()\n",
    "    #Closeness centrality\n",
    "    CICN=nx.current_flow_closeness_centrality(G,weight='weight')\n",
    "    COCN=nx.current_flow_closeness_centrality(Grev,weight='weight')\n",
    "    #Betweenness centrality\n",
    "    BICN=nx.current_flow_betweenness_centrality(G, weight='weight')\n",
    "    BOCN=nx.current_flow_betweenness_centrality(Grev,weight='weight')\n",
    "    #Degree centrality\n",
    "    DICN=nx.in_degree_centrality(G)\n",
    "    DOCN=nx.out_degree_centrality(G)\n",
    "    #Eigenvalue centrality\n",
    "    EICN=nx.eigenvector_centrality(G,weight='weight')\n",
    "    EOCN=nx.eigenvector_centrality(Grev,weight='weight')\n",
    "    \n",
    "    for n in ns:\n",
    "        #print(n)\n",
    "        if n not in GD:\n",
    "            GD[n]={}\n",
    "            \n",
    "        #Descriptor degree\n",
    "        ind=G.in_degree(n)\n",
    "        outd=G.out_degree(n)\n",
    "        GD[n]['ind']=ind\n",
    "        GD[n]['outd']=outd\n",
    "        \n",
    "        #Centrality\n",
    "        GD[n]['in_eigenvalue']=EICN[n]\n",
    "        GD[n]['out_eigenvalue']=EOCN[n]\n",
    "        GD[n]['in_degree']=DICN[n]\n",
    "        GD[n]['out_degree']=DOCN[n]\n",
    "        GD[n]['in_betweenness']=BICN[n]\n",
    "        GD[n]['out_betweenness']=BOCN[n]\n",
    "        GD[n]['in_closeness']=CICN[n]\n",
    "        GD[n]['out_closeness']=COCN[n]\n",
    "        \n",
    "        #Edge descriptors statistics: Flow, distance, time\n",
    "        succ=G.successors(n)\n",
    "        lensuc=len(succ)\n",
    "        pred=G.predecessors(n)\n",
    "        lenpred=len(pred)\n",
    "        \n",
    "        out_flow=0\n",
    "        in_flow=0\n",
    "        out_dis=0\n",
    "        in_dis=0\n",
    "        out_delta=0\n",
    "        in_delta=0\n",
    "        \n",
    "        for ns in succ:\n",
    "            out_flow=out_flow+G[n][ns]['weight']\n",
    "            out_dis=out_dis+G[n][ns]['distance']\n",
    "            out_delta=out_delta+G[n][ns]['time']\n",
    "            out_delta=out_delta/out_flow\n",
    "        \n",
    "        for np in pred:\n",
    "            in_flow=in_flow+G[np][n]['weight']\n",
    "            in_dis=in_dis+G[np][n]['distance']\n",
    "            in_delta=in_delta+G[np][n]['time']\n",
    "            in_delta=in_delta/in_flow\n",
    "            \n",
    "        ave_out_flow=out_flow/lensuc\n",
    "        ave_in_flow=in_flow/lenpred\n",
    "        \n",
    "        out_dis=out_dis/lensuc\n",
    "        in_dis=in_dis/lenpred\n",
    "        \n",
    "        out_delta=out_delta/lensuc\n",
    "        in_delta=in_delta/lenpred\n",
    "        \n",
    "        GD[n]['out_flow']=out_flow\n",
    "        GD[n]['in_flow']=in_flow\n",
    "        GD[n]['out_ave_flow']=ave_out_flow\n",
    "        GD[n]['in_ave_flow']=ave_in_flow\n",
    "        GD[n]['out_distace']=out_dist\n",
    "        GD[n]['in_distace']=in_dist\n",
    "        GD[n]['out_time']=out_delta\n",
    "        GD[n]['in_time']=in_delta\n",
    "        \n",
    "        #We could add socio-economic descriptors to the node\n",
    "        \n",
    "    with open('nets/ND_'+str(yDay)+'.cnf', 'wb') as handle:\n",
    "        pickle.dump(GD, handle, protocol=pickle.HIGHEST_PROTOCOL)\n",
    "    print('Finished '+str(yDay))"
   ]
  },
  {
   "cell_type": "code",
   "execution_count": 27,
   "metadata": {},
   "outputs": [
    {
     "name": "stdout",
     "output_type": "stream",
     "text": [
      "0.0020303691271692514\n"
     ]
    }
   ],
   "source": [
    "from timeit import default_timer as timer\n",
    "\n",
    "start = timer()\n",
    "end = timer()\n",
    "print(end - start)"
   ]
  },
  {
   "cell_type": "code",
   "execution_count": null,
   "metadata": {},
   "outputs": [],
   "source": []
  },
  {
   "cell_type": "code",
   "execution_count": null,
   "metadata": {},
   "outputs": [],
   "source": []
  }
 ],
 "metadata": {
  "kernelspec": {
   "display_name": "Python 3",
   "language": "python",
   "name": "python3"
  },
  "language_info": {
   "codemirror_mode": {
    "name": "ipython",
    "version": 3
   },
   "file_extension": ".py",
   "mimetype": "text/x-python",
   "name": "python",
   "nbconvert_exporter": "python",
   "pygments_lexer": "ipython3",
   "version": "3.6.9"
  }
 },
 "nbformat": 4,
 "nbformat_minor": 2
}
