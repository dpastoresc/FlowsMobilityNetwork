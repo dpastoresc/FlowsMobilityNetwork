{
 "cells": [
  {
   "cell_type": "code",
   "execution_count": 1,
   "metadata": {},
   "outputs": [],
   "source": [
    "# DELIVERABLE FOR THE PROJECT:\n",
    "# \"KINEMATICS OF MOBILITY\"\n",
    "# CIMMYT \n",
    "# David Pastor-Escuredo (Life D Lab)\n",
    "# Licencia MIT"
   ]
  },
  {
   "cell_type": "code",
   "execution_count": 2,
   "metadata": {},
   "outputs": [],
   "source": [
    "#Copyright <2019> <David Pastor Escuredo>\n",
    "\n",
    "#Permission is hereby granted, free of charge, to any person obtaining a copy of this software and associated documentation files (the \"Software\"), to deal in the Software without restriction, including without limitation the rights to use, copy, modify, merge, publish, distribute, sublicense, and/or sell copies of the Software, and to permit persons to whom the Software is furnished to do so, subject to the following conditions:\n",
    "\n",
    "#The above copyright notice and this permission notice shall be included in all copies or substantial portions of the Software.\n",
    "\n",
    "#THE SOFTWARE IS PROVIDED \"AS IS\", WITHOUT WARRANTY OF ANY KIND, EXPRESS OR IMPLIED, INCLUDING BUT NOT LIMITED TO THE WARRANTIES OF MERCHANTABILITY, FITNESS FOR A PARTICULAR PURPOSE AND NONINFRINGEMENT. IN NO EVENT SHALL THE AUTHORS OR COPYRIGHT HOLDERS BE LIABLE FOR ANY CLAIM, DAMAGES OR OTHER LIABILITY, WHETHER IN AN ACTION OF CONTRACT, TORT OR OTHERWISE, ARISING FROM, OUT OF OR IN CONNECTION WITH THE SOFTWARE OR THE USE OR OTHER DEALINGS IN THE SOFTWARE."
   ]
  },
  {
   "cell_type": "code",
   "execution_count": 23,
   "metadata": {},
   "outputs": [],
   "source": [
    "import pandas as pd\n",
    "import numpy as np\n",
    "import json\n",
    "from nltk.tokenize import word_tokenize\n",
    "import re\n",
    "import networkx as nx\n",
    "import matplotlib.pyplot as plt\n",
    "import datetime\n",
    "import collections\n",
    "from sklearn.cluster import KMeans\n",
    "from PIL import Image\n",
    "\n",
    "def getday(d):\n",
    "    if d<10:\n",
    "        ds='0'+str(d)\n",
    "    else:\n",
    "        ds=str(d)\n",
    "    return ds"
   ]
  },
  {
   "cell_type": "code",
   "execution_count": 36,
   "metadata": {},
   "outputs": [
    {
     "name": "stdout",
     "output_type": "stream",
     "text": [
      "29869\n",
      "29865\n",
      "6757\n",
      "   LATITUD  LONGITUD Celda_HEX LAC_HEX\n",
      "0   4.6092  -74.0718      2711    083F\n",
      "1   4.6092  -74.0718      2712    083F\n",
      "2   4.6092  -74.0718      2713    083F\n",
      "3   4.6092  -74.0718      2714    083F\n",
      "4   4.6092  -74.0718      2715    083F\n",
      "   index  LATITUD  LONGITUD Celda_HEX LAC_HEX antenna_id\n",
      "0      0   4.6092  -74.0718      2711    083F   083F2711\n",
      "1      1   4.6092  -74.0718      2712    083F   083F2712\n",
      "2      2   4.6092  -74.0718      2713    083F   083F2713\n",
      "3      3   4.6092  -74.0718      2714    083F   083F2714\n",
      "4      4   4.6092  -74.0718      2715    083F   083F2715\n",
      "   Unnamed: 0  LATITUD  LONGITUD Celda_HEX LAC_HEX antenna_id    municipio\n",
      "0           0   4.6092  -74.0718      2711    083F   083F2711  BOGOTÁ D.C.\n",
      "1           1   4.6092  -74.0718      2712    083F   083F2712  BOGOTÁ D.C.\n",
      "2           2   4.6092  -74.0718      2713    083F   083F2713  BOGOTÁ D.C.\n",
      "3           3   4.6092  -74.0718      2714    083F   083F2714  BOGOTÁ D.C.\n",
      "4           4   4.6092  -74.0718      2715    083F   083F2715  BOGOTÁ D.C.\n"
     ]
    }
   ],
   "source": [
    "ant_file='antennas/antennas.csv'\n",
    "sheet=pd.read_csv(ant_file,delimiter=';')\n",
    "\n",
    "ant_file_col='antennas/antennas_colombia.csv'\n",
    "sheet2=pd.read_csv(ant_file_col,delimiter=',')\n",
    "\n",
    "ant_file_b='antennas/antennas_bogota.csv'\n",
    "sheet3=pd.read_csv(ant_file_b,delimiter=',')\n",
    "\n",
    "print(len(sheet))\n",
    "print(len(sheet2))\n",
    "print(len(sheet3))\n",
    "\n",
    "print(sheet.head())\n",
    "print(sheet2.head())\n",
    "print(sheet3.head())"
   ]
  },
  {
   "cell_type": "code",
   "execution_count": 30,
   "metadata": {
    "scrolled": false
   },
   "outputs": [
    {
     "name": "stdout",
     "output_type": "stream",
     "text": [
      "29869\n",
      "29869\n",
      "   LATITUD  LONGITUD Celda_HEX LAC_HEX\n",
      "0   4.6092  -74.0718      2711    083F\n",
      "1   4.6092  -74.0718      2712    083F\n",
      "2   4.6092  -74.0718      2713    083F\n",
      "3   4.6092  -74.0718      2714    083F\n",
      "4   4.6092  -74.0718      2715    083F\n",
      "29869\n",
      "-76.5484 13.3764 -81.7294 74.0386\n"
     ]
    }
   ],
   "source": [
    "ant_file='/Volumes/OS Disk/Tef_Colombia/datos/CONSULTA_SECTORES.xls'\n",
    "ant_file_mun='antennas/CONSULTA_SECTORES_2.xls'\n",
    "ant_file='antennas/antennas.csv'\n",
    "xls=pd.ExcelFile(ant_file_mun)#,decimal=',')\n",
    "sheetMun=xls.parse(0)\n",
    "print(len(sheetMun))\n",
    "mun=sheetMun['COD_DANE_MUNICIPIO']\n",
    "\n",
    "sheet=pd.read_csv(ant_file,delimiter=';')\n",
    "print(len(sheet))\n",
    "print(sheet.head())\n",
    "LAC=sheet['LAC_HEX']\n",
    "Cell=sheet['Celda_HEX']\n",
    "lon=sheet['LONGITUD']\n",
    "lat=sheet['LATITUD']\n",
    "sheet['antenna_id']=LAC+Cell\n",
    "sheet['municipio']=mun\n",
    "#print(sheet['antenna_id'])\n",
    "aid=sheet['antenna_id']\n",
    "print(len(sheet))\n",
    "\n",
    "minlat=np.float64(np.min(lat))\n",
    "maxlat=np.float64(np.max(lat))\n",
    "minlon=np.float64(np.min(lon))\n",
    "maxlon=np.float64(np.max(lon))\n",
    "print(minlat,maxlat,minlon,maxlon)\n"
   ]
  },
  {
   "cell_type": "code",
   "execution_count": 25,
   "metadata": {},
   "outputs": [
    {
     "name": "stdout",
     "output_type": "stream",
     "text": [
      "1352\n"
     ]
    }
   ],
   "source": [
    "mun_data=sheet[sheet['municipio']=='MEDELLIN']\n",
    "print(len(mun_data))\n",
    "sheet=mun_data\n",
    "LAC=sheet['LAC_HEX']\n",
    "Cell=sheet['Celda_HEX']\n",
    "lon=sheet['LONGITUD']\n",
    "lat=sheet['LATITUD']\n",
    "aid=sheet['antenna_id']\n",
    "\n",
    "sheet.to_csv('antennas/antennas_medellin.csv')"
   ]
  },
  {
   "cell_type": "code",
   "execution_count": 28,
   "metadata": {},
   "outputs": [
    {
     "name": "stdout",
     "output_type": "stream",
     "text": [
      "6757\n"
     ]
    }
   ],
   "source": [
    "mun_data=sheet[sheet['municipio']=='BOGOTÁ D.C.']\n",
    "print(len(mun_data))\n",
    "sheet=mun_data\n",
    "LAC=sheet['LAC_HEX']\n",
    "Cell=sheet['Celda_HEX']\n",
    "lon=sheet['LONGITUD']\n",
    "lat=sheet['LATITUD']\n",
    "aid=sheet['antenna_id']\n",
    "\n",
    "sheet.to_csv('antennas/antennas_bogota.csv')"
   ]
  },
  {
   "cell_type": "code",
   "execution_count": 29,
   "metadata": {
    "scrolled": false
   },
   "outputs": [
    {
     "name": "stdout",
     "output_type": "stream",
     "text": [
      "4.47804 4.8147199999999994 -74.207 74.0386\n",
      "6757\n",
      "6756\n",
      "6756\n",
      "4.47804 4.8147199999999994 -74.207 -74.0227\n"
     ]
    }
   ],
   "source": [
    "#lat=pd.to_numeric(lat)\n",
    "#lon=pd.to_numeric(lon)\n",
    "minlat=np.float64(np.min(lat))\n",
    "maxlat=np.float64(np.max(lat))\n",
    "minlon=np.float64(np.min(lon))\n",
    "maxlon=np.float64(np.max(lon))\n",
    "print(minlat,maxlat,minlon,maxlon)\n",
    "\n",
    "minlon=-83\n",
    "minlat=0\n",
    "\n",
    "sheet2=sheet[sheet['LONGITUD']<0]\n",
    "sheet3=sheet2[sheet2['LATITUD']>0]\n",
    "\n",
    "print(len(sheet))\n",
    "print(len(sheet2))\n",
    "print(len(sheet3))\n",
    "\n",
    "LAC=sheet3['LAC_HEX']\n",
    "Cell=sheet3['Celda_HEX']\n",
    "lon=sheet3['LONGITUD']\n",
    "lat=sheet3['LATITUD']\n",
    "aid=sheet3['antenna_id']\n",
    "\n",
    "minlat=np.float64(np.min(lat))\n",
    "maxlat=np.float64(np.max(lat))\n",
    "minlon=np.float64(np.min(lon))\n",
    "maxlon=np.float64(np.max(lon))\n",
    "print(minlat,maxlat,minlon,maxlon)"
   ]
  },
  {
   "cell_type": "code",
   "execution_count": null,
   "metadata": {},
   "outputs": [],
   "source": []
  }
 ],
 "metadata": {
  "kernelspec": {
   "display_name": "Python 3",
   "language": "python",
   "name": "python3"
  },
  "language_info": {
   "codemirror_mode": {
    "name": "ipython",
    "version": 3
   },
   "file_extension": ".py",
   "mimetype": "text/x-python",
   "name": "python",
   "nbconvert_exporter": "python",
   "pygments_lexer": "ipython3",
   "version": "3.6.9"
  }
 },
 "nbformat": 4,
 "nbformat_minor": 2
}
