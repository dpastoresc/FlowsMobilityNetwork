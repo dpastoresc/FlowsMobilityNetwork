{
 "cells": [
  {
   "cell_type": "code",
   "execution_count": 2,
   "metadata": {},
   "outputs": [],
   "source": [
    "# DELIVERABLE FOR THE PROJECT:\n",
    "# \"KINEMATICS OF MOBILITY\"\n",
    "# CIMMYT \n",
    "# David Pastor-Escuredo (Life D Lab)\n",
    "# Licencia MIT"
   ]
  },
  {
   "cell_type": "code",
   "execution_count": 3,
   "metadata": {},
   "outputs": [],
   "source": [
    "#Copyright <2019> <David Pastor Escuredo>\n",
    "\n",
    "#Permission is hereby granted, free of charge, to any person obtaining a copy of this software and associated documentation files (the \"Software\"), to deal in the Software without restriction, including without limitation the rights to use, copy, modify, merge, publish, distribute, sublicense, and/or sell copies of the Software, and to permit persons to whom the Software is furnished to do so, subject to the following conditions:\n",
    "\n",
    "#The above copyright notice and this permission notice shall be included in all copies or substantial portions of the Software.\n",
    "\n",
    "#THE SOFTWARE IS PROVIDED \"AS IS\", WITHOUT WARRANTY OF ANY KIND, EXPRESS OR IMPLIED, INCLUDING BUT NOT LIMITED TO THE WARRANTIES OF MERCHANTABILITY, FITNESS FOR A PARTICULAR PURPOSE AND NONINFRINGEMENT. IN NO EVENT SHALL THE AUTHORS OR COPYRIGHT HOLDERS BE LIABLE FOR ANY CLAIM, DAMAGES OR OTHER LIABILITY, WHETHER IN AN ACTION OF CONTRACT, TORT OR OTHERWISE, ARISING FROM, OUT OF OR IN CONNECTION WITH THE SOFTWARE OR THE USE OR OTHER DEALINGS IN THE SOFTWARE."
   ]
  },
  {
   "cell_type": "code",
   "execution_count": 1,
   "metadata": {},
   "outputs": [],
   "source": [
    "import pandas as pd\n",
    "import numpy as np\n",
    "import json\n",
    "from nltk.tokenize import word_tokenize\n",
    "import re\n",
    "import networkx as nx\n",
    "import matplotlib.pyplot as plt\n",
    "import datetime\n",
    "import collections\n",
    "from sklearn.cluster import KMeans\n",
    "from PIL import Image\n",
    "\n",
    "def getday(d):\n",
    "    if d<10:\n",
    "        ds='0'+str(d)\n",
    "    else:\n",
    "        ds=str(d)\n",
    "    return ds"
   ]
  },
  {
   "cell_type": "code",
   "execution_count": 3,
   "metadata": {
    "scrolled": true
   },
   "outputs": [
    {
     "name": "stdout",
     "output_type": "stream",
     "text": [
      "29869\n",
      "29869\n",
      "   LATITUD  LONGITUD Celda_HEX LAC_HEX\n",
      "0   4.6092  -74.0718      2711    083F\n",
      "1   4.6092  -74.0718      2712    083F\n",
      "2   4.6092  -74.0718      2713    083F\n",
      "3   4.6092  -74.0718      2714    083F\n",
      "4   4.6092  -74.0718      2715    083F\n",
      "29869\n"
     ]
    }
   ],
   "source": [
    "ant_file='/Volumes/OS Disk/Tef_Colombia/datos/CONSULTA_SECTORES.xls'\n",
    "ant_file_mun='antennas/CONSULTA_SECTORES.xls'\n",
    "ant_file='antennas/antennas.csv'\n",
    "xls=pd.ExcelFile(ant_file_mun)#,decimal=',')\n",
    "sheetMun=xls.parse(0)\n",
    "print(len(sheetMun))\n",
    "mun=sheetMun['COD_DANE_MUNICIPIO']\n",
    "\n",
    "sheet=pd.read_csv(ant_file,delimiter=';')\n",
    "print(len(sheet))\n",
    "print(sheet.head())\n",
    "LAC=sheet['LAC_HEX']\n",
    "Cell=sheet['Celda_HEX']\n",
    "lon=sheet['LONGITUD']\n",
    "lat=sheet['LATITUD']\n",
    "sheet['antenna_id']=LAC+Cell\n",
    "sheet['municipio']=mun\n",
    "#print(sheet['antenna_id'])\n",
    "aid=sheet['antenna_id']\n",
    "print(len(sheet))"
   ]
  },
  {
   "cell_type": "code",
   "execution_count": 4,
   "metadata": {},
   "outputs": [
    {
     "name": "stdout",
     "output_type": "stream",
     "text": [
      "6757\n"
     ]
    }
   ],
   "source": [
    "mun_data=sheet[sheet['municipio']=='BOGOTÁ D.C.']\n",
    "print(len(mun_data))\n",
    "sheet=mun_data\n",
    "LAC=sheet['LAC_HEX']\n",
    "Cell=sheet['Celda_HEX']\n",
    "lon=sheet['LONGITUD']\n",
    "lat=sheet['LATITUD']\n",
    "aid=sheet['antenna_id']\n",
    "\n",
    "sheet.to_csv('antennas/antennas_bogota.csv')"
   ]
  },
  {
   "cell_type": "code",
   "execution_count": null,
   "metadata": {},
   "outputs": [],
   "source": [
    "mun_data=sheet[sheet['municipio']=='BOGOTÁ D.C.']\n",
    "print(len(mun_data))\n",
    "sheet=mun_data\n",
    "LAC=sheet['LAC_HEX']\n",
    "Cell=sheet['Celda_HEX']\n",
    "lon=sheet['LONGITUD']\n",
    "lat=sheet['LATITUD']\n",
    "aid=sheet['antenna_id']\n",
    "\n",
    "sheet.to_csv('antennas/antennas_bogota.csv')"
   ]
  },
  {
   "cell_type": "code",
   "execution_count": 11,
   "metadata": {
    "scrolled": false
   },
   "outputs": [
    {
     "name": "stdout",
     "output_type": "stream",
     "text": [
      "4.47804 4.81472 -74.207 74.0386\n",
      "6757\n",
      "6756\n",
      "6756\n",
      "4.47804 4.81472 -74.207 -74.0227\n"
     ]
    }
   ],
   "source": [
    "#lat=pd.to_numeric(lat)\n",
    "#lon=pd.to_numeric(lon)\n",
    "minlat=np.float64(np.min(lat))\n",
    "maxlat=np.float64(np.max(lat))\n",
    "minlon=np.float64(np.min(lon))\n",
    "maxlon=np.float64(np.max(lon))\n",
    "print(minlat,maxlat,minlon,maxlon)\n",
    "\n",
    "minlon=-83\n",
    "minlat=0\n",
    "\n",
    "sheet2=sheet[sheet['LONGITUD']<0]\n",
    "sheet3=sheet2[sheet2['LATITUD']>0]\n",
    "\n",
    "print(len(sheet))\n",
    "print(len(sheet2))\n",
    "print(len(sheet3))\n",
    "\n",
    "LAC=sheet3['LAC_HEX']\n",
    "Cell=sheet3['Celda_HEX']\n",
    "lon=sheet3['LONGITUD']\n",
    "lat=sheet3['LATITUD']\n",
    "aid=sheet3['antenna_id']\n",
    "\n",
    "minlat=np.float64(np.min(lat))\n",
    "maxlat=np.float64(np.max(lat))\n",
    "minlon=np.float64(np.min(lon))\n",
    "maxlon=np.float64(np.max(lon))\n",
    "print(minlat,maxlat,minlon,maxlon)"
   ]
  },
  {
   "cell_type": "code",
   "execution_count": 27,
   "metadata": {
    "scrolled": false
   },
   "outputs": [
    {
     "name": "stdout",
     "output_type": "stream",
     "text": [
      "20140111\n",
      "11847021\n",
      "20140112\n",
      "9564113\n",
      "20140113\n",
      "13007215\n",
      "20140114\n",
      "12708108\n",
      "20140115\n",
      "12790514\n",
      "20140116\n",
      "12832552\n",
      "20140117\n",
      "13387667\n",
      "20140118\n",
      "12375479\n",
      "20140119\n",
      "9747052\n",
      "20140120\n",
      "13138528\n",
      "20140121\n",
      "12919871\n",
      "20140122\n",
      "12736071\n",
      "20140123\n",
      "12648613\n",
      "20140124\n",
      "13255080\n",
      "20140125\n",
      "12152131\n",
      "20140126\n",
      "9631352\n",
      "20140127\n",
      "13087719\n",
      "20140128\n"
     ]
    },
    {
     "ename": "FileNotFoundError",
     "evalue": "[Errno 2] No such file or directory: '/Volumes/OS Disk/Tef_Colombia/data_sorted/20140128'",
     "output_type": "error",
     "traceback": [
      "\u001b[0;31m---------------------------------------------------------------------------\u001b[0m",
      "\u001b[0;31mFileNotFoundError\u001b[0m                         Traceback (most recent call last)",
      "\u001b[0;32m<ipython-input-27-ee1b53349d1b>\u001b[0m in \u001b[0;36m<module>\u001b[0;34m()\u001b[0m\n\u001b[1;32m     14\u001b[0m             \u001b[0mcdr_file\u001b[0m\u001b[0;34m=\u001b[0m\u001b[0my\u001b[0m\u001b[0;34m+\u001b[0m\u001b[0mm\u001b[0m\u001b[0;34m+\u001b[0m\u001b[0md\u001b[0m\u001b[0;34m\u001b[0m\u001b[0m\n\u001b[1;32m     15\u001b[0m             \u001b[0mprint\u001b[0m\u001b[0;34m(\u001b[0m\u001b[0mcdr_file\u001b[0m\u001b[0;34m)\u001b[0m\u001b[0;34m\u001b[0m\u001b[0m\n\u001b[0;32m---> 16\u001b[0;31m             \u001b[0;32mwith\u001b[0m \u001b[0mopen\u001b[0m\u001b[0;34m(\u001b[0m\u001b[0mcdr_folder\u001b[0m\u001b[0;34m+\u001b[0m\u001b[0mcdr_file\u001b[0m\u001b[0;34m,\u001b[0m \u001b[0;34m'r'\u001b[0m\u001b[0;34m)\u001b[0m \u001b[0;32mas\u001b[0m \u001b[0mfl\u001b[0m\u001b[0;34m:\u001b[0m\u001b[0;34m\u001b[0m\u001b[0m\n\u001b[0m\u001b[1;32m     17\u001b[0m                 \u001b[0;31m#D_rows = pd.read_csv(fl, header=None)\u001b[0m\u001b[0;34m\u001b[0m\u001b[0;34m\u001b[0m\u001b[0m\n\u001b[1;32m     18\u001b[0m                 \u001b[0mD_rows\u001b[0m\u001b[0;34m=\u001b[0m\u001b[0mjson\u001b[0m\u001b[0;34m.\u001b[0m\u001b[0mload\u001b[0m\u001b[0;34m(\u001b[0m\u001b[0mfl\u001b[0m\u001b[0;34m)\u001b[0m\u001b[0;34m\u001b[0m\u001b[0m\n",
      "\u001b[0;31mFileNotFoundError\u001b[0m: [Errno 2] No such file or directory: '/Volumes/OS Disk/Tef_Colombia/data_sorted/20140128'"
     ]
    }
   ],
   "source": [
    "cdr_folder='/Volumes/OS Disk/Tef_Colombia/data_sorted/'\n",
    "year=['2014']\n",
    "month=['01','02','03','04','05']\n",
    "day=[31,28,31,30,31]\n",
    "cd=0\n",
    "c=0\n",
    "count2=0\n",
    "\n",
    "for y in year:\n",
    "    for m in month:\n",
    "        for di in range (11, day[cd]+1):\n",
    "            Im=np.zeros((3000,3000))\n",
    "            d=getday(di)\n",
    "            cdr_file=y+m+d\n",
    "            print(cdr_file)\n",
    "            with open(cdr_folder+cdr_file, 'r') as fl:\n",
    "                #D_rows = pd.read_csv(fl, header=None)\n",
    "                D_rows=json.load(fl)\n",
    "            print(len(D_rows))\n",
    "            for row in D_rows:\n",
    "                #print(D_rows[0])\n",
    "                my_id=row[1]\n",
    "                #mlac=D_rows[0][1][0:4]\n",
    "                #mcell=D_rows[0][1][4:8]\n",
    "                #print(mlac)\n",
    "                #print(mcell)\n",
    "                ix=aid.index[aid==my_id]\n",
    "                if len(ix)>0:\n",
    "                    ix=ix[0]\n",
    "                    #print(ix)\n",
    "                    llon=lon.loc[ix]\n",
    "                    llat=lat.loc[ix]\n",
    "                    if not pd.isnull(llon) and not pd.isnull(llat) and not type(llon) is str and not type(llat) is str:\n",
    "                        mlon=np.float64(llon)\n",
    "                        mlat=np.float64(llat)\n",
    "                        #print(mlon)\n",
    "                        #print(mlat)\n",
    "                        ilon=(mlon-minlon)*5000.0\n",
    "                        ilat=(mlat-minlat)*5000.0\n",
    "                        if ilon<0:\n",
    "                            ilon=0\n",
    "                        if ilat<0:\n",
    "                            ilat=0\n",
    "                        \n",
    "                        ilon=np.uint64(ilon)\n",
    "                        ilat=np.uint64(ilat)\n",
    "                        if ilon>2999:\n",
    "                            ilon=2999\n",
    "                        if ilat>2999:\n",
    "                            ilat=2999\n",
    "                        #print(ilon)\n",
    "                        #print(ilat)\n",
    "                        Im[ilat][ilon]=Im[ilat][ilon]+1\n",
    "                    #print(mlon)\n",
    "                    #print(mlat)\n",
    "                else:\n",
    "                    count2=count2+1\n",
    "            MIm=Image.fromarray(Im)\n",
    "            MIm.save('imagesBogota/image_'+str(c)+'.tiff')\n",
    "            c=c+1\n",
    "            MIm.show()\n",
    "            \n",
    "        cd=cd+1\n",
    "        print(\"Non found antennas \"+str(count2))"
   ]
  },
  {
   "cell_type": "code",
   "execution_count": 22,
   "metadata": {},
   "outputs": [
    {
     "name": "stdout",
     "output_type": "stream",
     "text": [
      "11054.0\n",
      "9338.0\n",
      "12422.0\n",
      "12275.0\n",
      "12677.0\n",
      "12471.0\n",
      "12915.0\n",
      "13173.0\n",
      "10097.0\n",
      "12711.0\n",
      "12620.0\n",
      "12535.0\n",
      "12184.0\n",
      "13289.0\n",
      "12852.0\n",
      "9974.0\n",
      "12975.0\n"
     ]
    }
   ],
   "source": [
    "import cv2\n",
    "import scipy.ndimage as ndimage\n",
    "dilsize=10\n",
    "gausssize=10\n",
    "for c in range(0,17):\n",
    "    Im=Image.open('imagesBogota/image_'+str(c)+'.tiff')\n",
    "    #print(np.max(Im))\n",
    "    mmax=np.max(Im)\n",
    "    ImN=Im/mmax\n",
    "    ImN=np.uint8(ImN*255)\n",
    "    ImN[ImN>0]=255\n",
    "    a=ImN>0\n",
    "    sa=np.sum(a[:])\n",
    "    #print(sa)\n",
    "    #print(np.max(ImN))\n",
    "    #print(np.mean(ImN))\n",
    "    Im2=np.flip(ImN,axis=0)\n",
    "    Im3=Im2[1100:3000,0:1100]\n",
    "    MIm3=Image.fromarray(np.uint8(Im3))\n",
    "    kernel = np.ones((5,5),np.uint8)\n",
    "    #Im4 = cv2.dilate(Im3,kernel,iterations = 1)\n",
    "    Im4 = ndimage.morphology.grey_dilation(Im3,size=(dilsize,dilsize))\n",
    "    Im5 = ndimage.gaussian_filter(Im4, sigma=(gausssize, gausssize), order=0)\n",
    "    MIm4=Image.fromarray(np.uint8(Im4))\n",
    "    MIm5=Image.fromarray(np.uint8(Im5))\n",
    "    MIm3.save('imagesBogota/imagegood_'+str(c)+'.tiff')\n",
    "    MIm4.save('imagesBogota/imagedilated_'+str(c)+'.tiff')\n",
    "    MIm5.save('imagesBogota/imagegauss_'+str(c)+'.tiff')\n",
    "    #MIm4.show()\n",
    "    #MIm5.show()\n",
    "\n",
    "#ImN2=np.zeros(np.shape(ImN))\n",
    "#MIm2=MImN.rotate(180)\n",
    "#MIm2.save('images/imageReshape_'+str(c)+'.tiff')\n",
    "#MIm2.show()\n",
    "#plt.hist(MIm2.getdata())\n",
    "#plt.show()"
   ]
  },
  {
   "cell_type": "code",
   "execution_count": 23,
   "metadata": {},
   "outputs": [],
   "source": [
    "frame=cv2.imread('imagesBogota/imagegauss_'+str(0)+'.tiff')\n",
    "height, width, layers = frame.shape\n",
    "video_name='video_gauss_bogota.avi'\n",
    "video = cv2.VideoWriter(video_name, 0, 1, (width,height))\n",
    "\n",
    "for c in range(0,17):\n",
    "    frame=cv2.imread('imagesBogota/imagegauss_'+str(c)+'.tiff')\n",
    "    video.write(frame)\n",
    "\n",
    "cv2.destroyAllWindows()\n",
    "video.release()"
   ]
  },
  {
   "cell_type": "code",
   "execution_count": null,
   "metadata": {},
   "outputs": [],
   "source": []
  }
 ],
 "metadata": {
  "kernelspec": {
   "display_name": "Python 3",
   "language": "python",
   "name": "python3"
  },
  "language_info": {
   "codemirror_mode": {
    "name": "ipython",
    "version": 3
   },
   "file_extension": ".py",
   "mimetype": "text/x-python",
   "name": "python",
   "nbconvert_exporter": "python",
   "pygments_lexer": "ipython3",
   "version": "3.6.9"
  }
 },
 "nbformat": 4,
 "nbformat_minor": 2
}
